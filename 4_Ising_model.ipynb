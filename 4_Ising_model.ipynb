{
  "cells": [
    {
      "cell_type": "markdown",
      "metadata": {
        "id": "view-in-github",
        "colab_type": "text"
      },
      "source": [
        "<a href=\"https://colab.research.google.com/github/SherZhou/Computational-Physics/blob/main/4_Ising_model.ipynb\" target=\"_parent\"><img src=\"https://colab.research.google.com/assets/colab-badge.svg\" alt=\"Open In Colab\"/></a>"
      ]
    },
    {
      "cell_type": "code",
      "execution_count": null,
      "id": "0da32375",
      "metadata": {
        "id": "0da32375"
      },
      "outputs": [],
      "source": [
        "import numpy as np \n",
        "import matplotlib.pyplot as plt"
      ]
    },
    {
      "cell_type": "code",
      "source": [
        "from google.colab import drive\n",
        "drive.mount('/content/drive')"
      ],
      "metadata": {
        "id": "t1sA_B-fLSQL"
      },
      "id": "t1sA_B-fLSQL",
      "execution_count": null,
      "outputs": []
    },
    {
      "cell_type": "code",
      "execution_count": null,
      "id": "899e9fc1",
      "metadata": {
        "id": "899e9fc1"
      },
      "outputs": [],
      "source": [
        "H=np.zeros((dimension,dimension))\n",
        "magnetization=[]\n",
        "up='1'\n",
        "down='0'\n",
        "z='0'*N\n",
        "for a in range(dimension):\n",
        "        state_chain=bin(a)[2:] \n",
        "        l=len(state_chain)\n",
        "        state_chain=z[0:N-l]+state_chain         \n",
        "        magnetization.append(((state_chain.count('1')-state_chain.count('0'))/N))"
      ]
    },
    {
      "cell_type": "code",
      "execution_count": null,
      "id": "11c2c84a",
      "metadata": {
        "id": "11c2c84a"
      },
      "outputs": [],
      "source": [
        "def diagonalization(J,h,N):\n",
        "    dimension=2**N\n",
        "    H=np.zeros((dimension,dimension))\n",
        "\n",
        "\n",
        "    for a in range(dimension):\n",
        "        state_chain=bin(a)[2:] \n",
        "        l=len(state_chain)\n",
        "        state_chain=z[0:N-l]+state_chain \n",
        "        \n",
        "        for i in range(N):\n",
        "            j=np.mod(i+1,N)\n",
        " \n",
        "            if state_chain[i]==state_chain[j]:\n",
        "                H[a,a]-=J\n",
        "#            \n",
        "            else:                              \n",
        "                H[a,a]+=J\n",
        "            \n",
        "            \n",
        "            \n",
        "            if state_chain[i]=='1':\n",
        "                state_chain1=state_chain[0:i]+down+state_chain[i+1:]\n",
        "                b=int(state_chain1,2)\n",
        "                H[a,b]-=h\n",
        "            \n",
        "            else:\n",
        "                state_chain1=state_chain[0:i]+up+state_chain[i+1:]\n",
        "                b=int(state_chain1,2)\n",
        "                H[a,b]-=h\n",
        "            \n",
        "    eig_value=np.real(np.linalg.eig(H)[0])\n",
        "    eig_vec=np.real(np.linalg.eig(H)[1])# eigen_values  # eigenstates\n",
        "    idx_sorted1 = np.argsort(eig_value)\n",
        "    eig_value=eig_value[idx_sorted1]\n",
        "    eig_vec=eig_vec[:,idx_sorted1]\n",
        "    energy_level=np.sort(eig_value)[0:50]\n",
        "    ground_energy=energy_level[0]\n",
        "    ground_vec=eig_vec[:,0]\n",
        "    for i in range(len(energy_level)):\n",
        "        energy_level[i]=energy_level[i]-ground_energy\n",
        "            \n",
        "\n",
        "    return energy_level,ground_vec"
      ]
    },
    {
      "cell_type": "code",
      "execution_count": null,
      "id": "c1518253",
      "metadata": {
        "id": "c1518253"
      },
      "outputs": [],
      "source": [
        "def statistical_m(ground_wave):\n",
        "    m_average=0\n",
        "    m_square=0\n",
        "    for i in range(dimension):\n",
        "        m_average+=(ground_wave[i]**2)*abs(magnetization[i])\n",
        "        m_square+=(ground_wave[i]**2)*(magnetization[i]**2)\n",
        "        \n",
        "    return m_average,m_square"
      ]
    },
    {
      "cell_type": "code",
      "execution_count": null,
      "id": "88ac0998",
      "metadata": {
        "id": "88ac0998"
      },
      "outputs": [],
      "source": [
        "h_list=np.linspace(0,2,41)\n",
        "A=np.zeros((50,len(h_list)))\n",
        "m_m=[]\n",
        "m_s=[]\n",
        "for i in range(len(h_list)):\n",
        "\n",
        "    energy_level,ground_wave=diagonalization(1,h_list[i],10)\n",
        "    m_average,m_square = statistical_m(ground_wave)\n",
        "    A[:,i]=energy_level\n",
        "    m_m.append(m_average)\n",
        "    m_s.append(m_square)"
      ]
    },
    {
      "cell_type": "code",
      "execution_count": null,
      "id": "7f3318e6",
      "metadata": {
        "id": "7f3318e6",
        "outputId": "3d7e3592-4975-4c92-faff-7b33d1795d03"
      },
      "outputs": [
        {
          "data": {
            "image/png": "[encoded data removed]",
            "text/plain": [
              "<Figure size 432x288 with 1 Axes>"
            ]
          },
          "metadata": {
            "needs_background": "light"
          },
          "output_type": "display_data"
        }
      ],
      "source": [
        "for i in range(len(energy_level)):\n",
        "    \n",
        "    plt.scatter(h_list,A[i,:],color='gray',s=3)"
      ]
    },
    {
      "cell_type": "code",
      "execution_count": null,
      "id": "7e0e4012",
      "metadata": {
        "id": "7e0e4012",
        "outputId": "b99605df-fa69-44d2-9456-887eb6e00617"
      },
      "outputs": [
        {
          "data": {
            "image/png": "[encoded data removed]",
            "text/plain": [
              "<Figure size 432x288 with 1 Axes>"
            ]
          },
          "metadata": {
            "needs_background": "light"
          },
          "output_type": "display_data"
        }
      ],
      "source": [
        "plt.plot(h_list,m_m)\n",
        "plt.show()"
      ]
    },
    {
      "cell_type": "code",
      "execution_count": null,
      "id": "91af035f",
      "metadata": {
        "id": "91af035f",
        "outputId": "e4b7d11e-e440-4e98-a5df-41e9cc111785"
      },
      "outputs": [
        {
          "data": {
            "image/png": "[encoded data removed]",
            "text/plain": [
              "<Figure size 432x288 with 1 Axes>"
            ]
          },
          "metadata": {
            "needs_background": "light"
          },
          "output_type": "display_data"
        }
      ],
      "source": [
        "m_variance=[]\n",
        "for i in range(len(h_list)):\n",
        "    m_variance.append(m_s[i]-m_m[i]**2)\n",
        "\n",
        "plt.plot(h_list,m_variance)\n",
        "plt.show()"
      ]
    }
  ],
  "metadata": {
    "kernelspec": {
      "display_name": "Python 3 (ipykernel)",
      "language": "python",
      "name": "python3"
    },
    "language_info": {
      "codemirror_mode": {
        "name": "ipython",
        "version": 3
      },
      "file_extension": ".py",
      "mimetype": "text/x-python",
      "name": "python",
      "nbconvert_exporter": "python",
      "pygments_lexer": "ipython3",
      "version": "3.9.12"
    },
    "colab": {
      "provenance": [],
      "include_colab_link": true
    }
  },
  "nbformat": 4,
  "nbformat_minor": 5
}