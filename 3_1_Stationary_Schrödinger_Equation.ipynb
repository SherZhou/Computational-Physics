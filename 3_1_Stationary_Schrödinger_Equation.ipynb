{
  "nbformat": 4,
  "nbformat_minor": 0,
  "metadata": {
    "colab": {
      "provenance": [],
      "authorship_tag": "ABX9TyOpepZMOmjAZ56AcMO1h4ox",
      "include_colab_link": true
    },
    "kernelspec": {
      "name": "python3",
      "display_name": "Python 3"
    },
    "language_info": {
      "name": "python"
    },
    "gpuClass": "standard"
  },
  "cells": [
    {
      "cell_type": "markdown",
      "metadata": {
        "id": "view-in-github",
        "colab_type": "text"
      },
      "source": [
        "<a href=\"https://colab.research.google.com/github/SherZhou/Computational-Physics/blob/main/3_1_Stationary_Schr%C3%B6dinger_Equation.ipynb\" target=\"_parent\"><img src=\"https://colab.research.google.com/assets/colab-badge.svg\" alt=\"Open In Colab\"/></a>"
      ]
    },
    {
      "cell_type": "code",
      "execution_count": null,
      "metadata": {
        "id": "lUCCSRwY6zS1"
      },
      "outputs": [],
      "source": [
        "import numpy as np\n",
        "import matplotlib.pyplot as plt\n",
        "from matplotlib import rc\n",
        "from matplotlib import animation"
      ]
    },
    {
      "cell_type": "markdown",
      "source": [
        "<font  face=Times color=darkblue size=3> Now we use Numerov Matrix Method for the same situation. Remember that $E$ is of scale $\\hbar w$, so we take $E=\\hbar w \\epsilon$, and the equation can be expressed as: $$-\\frac{1}{2}\\frac{d^2}{d x^2}\\psi +\\frac{1}{2}(\\frac{mw}{\\hbar})^2x^2\\psi=\\frac{mw}{\\hbar}\\epsilon\\psi.$$ If we scale $\\frac{mw}{\\hbar}=1$, the equation becomes $$-\\frac{1}{2}\\frac{d^2}{dx^2}\\psi +\\frac{1}{2}x^2\\psi=\\epsilon\\psi$$and the partial derivative be replaced by the matrix $A$ and $B$, we have $$-\\frac{1}{2}B^{-1}A\\psi+\\frac{1}{2}x^2\\psi=\\epsilon\\psi.$$\n",
        "If we set the maximum energy $\\epsilon_m=50$, then $dx=\\frac{1}{\\sqrt{2\\epsilon_m}}=0.1$ ($\\frac{1}{2} x_t^2 = \\epsilon_m$, $x_t=10$), and $N=2(4\\pi+\\frac{x_t}{dx})\\approx 225$, where $x_t$ is the maximum position of the oscillator at positive $x$ direction."
      ],
      "metadata": {
        "id": "aRmtf4ny7E1g"
      }
    },
    {
      "cell_type": "code",
      "source": [
        "#set parameter\n",
        "dx=0.1\n",
        "n=225"
      ],
      "metadata": {
        "id": "klf6KWFh7GVN"
      },
      "execution_count": null,
      "outputs": []
    },
    {
      "cell_type": "code",
      "source": [
        "diag_0=np.diag(np.ones(n),0)\n",
        "diag_p1=np.diag(np.ones(n-1),1)\n",
        "diag_m1=np.diag(np.ones(n-1),-1)"
      ],
      "metadata": {
        "id": "OeN-SgEp7IQi"
      },
      "execution_count": null,
      "outputs": []
    },
    {
      "cell_type": "code",
      "source": [
        "mat_A=(1/dx**2)*(diag_m1-2*diag_0+diag_p1)\n",
        "mat_B=(1/12)*(diag_m1+10*diag_0+diag_p1)"
      ],
      "metadata": {
        "id": "PspQW_JC7JiY"
      },
      "execution_count": null,
      "outputs": []
    },
    {
      "cell_type": "code",
      "source": [
        "gamma2=2\n",
        "mat_v=np.zeros((n,n))\n",
        "for i in range(n):\n",
        "    mat_v[i,i]=abs(0.5*((i-(n)/2)**3)*(dx**3))"
      ],
      "metadata": {
        "id": "_-f4P2i07K_H"
      },
      "execution_count": null,
      "outputs": []
    },
    {
      "cell_type": "code",
      "source": [
        "#add v\n",
        "the_matrix=((-1/gamma2)*np.dot(np.linalg.inv(mat_B),mat_A)+mat_v)"
      ],
      "metadata": {
        "id": "-C3qXhBl7TbR"
      },
      "execution_count": null,
      "outputs": []
    },
    {
      "cell_type": "code",
      "source": [
        "E_list2,wf_list2=np.linalg.eig(the_matrix)\n",
        "idx_sorted2 = np.argsort(E_list2)\n",
        "E_list2=E_list2[idx_sorted2]\n",
        "wf_list2=wf_list2[:,idx_sorted2]"
      ],
      "metadata": {
        "id": "HpzV4v8y7VGw"
      },
      "execution_count": null,
      "outputs": []
    },
    {
      "cell_type": "code",
      "source": [
        "import mpl_toolkits.axisartist as axisartist"
      ],
      "metadata": {
        "id": "zfY0YcrW7WO6"
      },
      "execution_count": null,
      "outputs": []
    },
    {
      "cell_type": "code",
      "metadata": {
        "id": "KvwB9-J3g0C2",
        "colab": {
          "base_uri": "https://localhost:8080/",
          "height": 403
        },
        "outputId": "028ee6c0-2b91-4eba-9797-1c03108babdf"
      },
      "source": [
        "# Wavefunction plot\n",
        "n_list=np.arange(0,n)\n",
        "fig=plt.figure(figsize=(9,6))\n",
        "ax = axisartist.Subplot(fig, 111) \n",
        "#ax = plt.subplot(111)\n",
        "fig.add_axes(ax)\n",
        "for i in range(5):\n",
        "    plt.plot((n_list-n/2)*dx,(wf_list2[:,i])**2*10+1*i,label=str(i))\n",
        "plt.xlabel(r'$x$')\n",
        "plt.ylabel(r'$\\Psi_n(x)$')\n",
        "plt.yticks([0,1,2,3,4],[r'$E_0$',r'$E_1$',r'$E_2$',r'$E_3$',r'$E_4$',r'$E_5$',r'$E_6$'])\n",
        "ax.spines['right'].set_color('none')\n",
        "ax.spines['top'].set_color('none')\n",
        "ax.xaxis.set_ticks_position('bottom')\n",
        "ax.spines['bottom'].set_position(('data',0))\n",
        "ax.yaxis.set_ticks_position('left')\n",
        "ax.spines['left'].set_position(('data',0))\n",
        "\n",
        "ax.axis[:].set_visible(False)\n",
        "ax.axis[\"y\"] = ax.new_floating_axis(1,0)\n",
        "ax.axis[\"y\"].set_axisline_style(\"-|>\", size = 1.0)\n",
        "ax.axis[\"x\"] = ax.new_floating_axis(0,0)\n",
        "plt.title('Probability Density')\n",
        "#plt.legend()"
      ],
      "execution_count": null,
      "outputs": [
        {
          "output_type": "execute_result",
          "data": {
            "text/plain": [
              "Text(0.5, 1.0, 'Probability Density')"
            ]
          },
          "metadata": {},
          "execution_count": 20
        },
        {
          "output_type": "display_data",
          "data": {
            "text/plain": [
              "<Figure size 648x432 with 1 Axes>"
            ],
            "image/png": "[encoded data removed]"
          },
          "metadata": {
            "needs_background": "light"
          }
        }
      ]
    },
    {
      "cell_type": "code",
      "source": [
        "E_list2[0:5]"
      ],
      "metadata": {
        "id": "zr0fedIR7aMr",
        "colab": {
          "base_uri": "https://localhost:8080/"
        },
        "outputId": "8e60232f-0832-4d83-8cfa-587f510ad159"
      },
      "execution_count": null,
      "outputs": [
        {
          "output_type": "execute_result",
          "data": {
            "text/plain": [
              "array([0.51147286, 1.72527485, 3.18511689, 4.76094959, 6.43493922])"
            ]
          },
          "metadata": {},
          "execution_count": 22
        }
      ]
    },
    {
      "cell_type": "code",
      "source": [],
      "metadata": {
        "id": "Q7aZrGOO9yDl"
      },
      "execution_count": null,
      "outputs": []
    }
  ]
}