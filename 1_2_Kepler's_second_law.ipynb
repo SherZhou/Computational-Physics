{
  "nbformat": 4,
  "nbformat_minor": 0,
  "metadata": {
    "colab": {
      "provenance": [],
      "collapsed_sections": [],
      "authorship_tag": "ABX9TyOEKQeL4ckZw1kh4ZCHIE8E",
      "include_colab_link": true
    },
    "kernelspec": {
      "name": "python3",
      "display_name": "Python 3"
    },
    "language_info": {
      "name": "python"
    }
  },
  "cells": [
    {
      "cell_type": "markdown",
      "metadata": {
        "id": "view-in-github",
        "colab_type": "text"
      },
      "source": [
        "<a href=\"https://colab.research.google.com/github/SherZhou/Computational-Physics/blob/main/1_2_Kepler's_second_law.ipynb\" target=\"_parent\"><img src=\"https://colab.research.google.com/assets/colab-badge.svg\" alt=\"Open In Colab\"/></a>"
      ]
    },
    {
      "cell_type": "markdown",
      "source": [
        "The most popular one is 4-th order Runge-Kutta method:\n",
        "    \\begin{equation}\n",
        "    \\begin{aligned}\n",
        "    \\\\& kx_1=\\tau v_x(n)\n",
        "    \\\\& ky_1=\\tau v_y(n)\n",
        "    \\\\& lx_1=\\tau a_x(n)\n",
        "    \\\\& ly_1=\\tau a_y(n)\n",
        "    \\\\& kx_2=\\tau(v_x(n)+\\frac{1}{2}lx_1)\n",
        "    \\\\& ky_2=\\tau(v_x(n)+\\frac{1}{2}ly_1)\n",
        "    \\\\& lx_2=\\tau a_x(x(n)+\\frac{1}{2}kx_1,v_x(n)+\\frac{1}{2}lx_1,t+\\frac{1}{2}\\tau)\n",
        "    \\\\& ly_2=\\tau a_y(y(n)+\\frac{1}{2}ky_1,v_y(n)+\\frac{1}{2}ly_1,t+\\frac{1}{2}\\tau)\n",
        "    \\\\& kx_3=\\tau (v_x(n)+\\frac{1}{2}lx_2)\n",
        "    \\\\& ky_3=\\tau (v_y(n)+\\frac{1}{2}ly_2)\n",
        "    \\\\& lx_3=\\tau a_x(x(n)+\\frac{1}{2}kx_2,v_x(n)+\\frac{1}{2}lx_2,t+\\frac{1}{2}\\tau)\n",
        "    \\\\& ly_3=\\tau a_y(y(n)+\\frac{1}{2}ky_2,v_y(n)+\\frac{1}{2}ly_2,t+\\frac{1}{2}\\tau)\n",
        "    \\\\& kx_4=\\tau (v_x(n)+lx_3)\n",
        "    \\\\& ky_4=\\tau (v_y(n)+ly_3)\n",
        "    \\\\& lx_4=\\tau a_x(x(n)+kx_3,v_x(n)+lx_3,t+\\tau)\n",
        "    \\\\& ly_4=\\tau a_y(x(n)+ky_3,v_y(n)+ly_3,t+\\tau)\n",
        "    \\end{aligned}\n",
        "    \\end{equation}\n",
        "\n",
        "Put together, we have,\n",
        "  $$x(n+1)=x(n)+\\frac{1}{6}(kx_1+2kx_2+2kx_3+kx_4)$$\n",
        "  $$y(n+1)=y(n)+\\frac{1}{6}(ky_1+2ky_2+2ky_3+ky_4)$$\n",
        "  $$r(n+1)=\\sqrt{x^2(n+1)+y^2(n+1)}$$\n",
        "  $$v_x(n+1)=v_x(n)+\\frac{1}{6}(lx_1+2lx_2+2lx_3+lx_4)$$\n",
        "  $$v_y(n+1)=v_y(n)+\\frac{1}{6}(ly_1+2ly_2+2ly_3+ly_4)$$\n",
        "  $$v(n+1)=\\sqrt{v_x^2(n+1)+v_y^2(n+1)}$$\n",
        "\n",
        "use trangle to get the  area size：\n",
        "$$S=0.5 * [(x1y2-x2y1)+(x2y3-x3y2)+(x3y1-x1y3)]=0.5 * (x(n-1)*y(n)-x(n)*y(n-1)$$"
      ],
      "metadata": {
        "id": "EioQpsaU4zZH"
      }
    },
    {
      "cell_type": "markdown",
      "source": [
        "initial condition \n",
        "<br> $$a = 1,M = 1,m = 0.0123,e = 0.0549,μ=G(M + m)= 0.05288$$\n",
        "    <br> set $$x(0) = a(1 − e), y(0) = 0, v_x(0) = 0, v_y(0) = μ(1 + e)/[a(1 − e)]$$"
      ],
      "metadata": {
        "id": "P-dMDxPE7f7i"
      }
    },
    {
      "cell_type": "code",
      "source": [
        "import numpy as np\n",
        "import matplotlib.pyplot as plt\n",
        "import math"
      ],
      "metadata": {
        "id": "phaKGjhI1tbc"
      },
      "execution_count": null,
      "outputs": []
    },
    {
      "cell_type": "code",
      "execution_count": null,
      "metadata": {
        "id": "mIrMcO4pa-mL"
      },
      "outputs": [],
      "source": [
        "#initial condition\n",
        "a = 1\n",
        "M = 1\n",
        "m = 0.0123\n",
        "e = 0.0549\n",
        "miu = 0.05288\n",
        "tau=0.5\n",
        "t_rk=[0]\n",
        "vx_rk=[0]\n",
        "vy_rk=[pow(miu*(1+e)/(a*(1-e)),1/2)]\n",
        "v_rk=[pow(pow(vx_rk[0],2)+pow(vy_rk[0],2),1/2)]\n",
        "x_rk=[a*(1-e)]\n",
        "y_rk=[0]\n",
        "r_rk=[pow(pow(x_rk[0],2)+pow(y_rk[0],2),1/2)]\n",
        "s_rk=[0]\n",
        "theta=[0]\n"
      ]
    },
    {
      "cell_type": "code",
      "source": [
        "for i in range(1,56):\n",
        "    t_rk.append(tau*i)\n",
        "    kx1=tau*vx_rk[i-1]\n",
        "    ky1=tau*vy_rk[i-1]\n",
        "\n",
        "# r_rk需要更改吗\n",
        "    lx1=tau*-miu*x_rk[i-1]/pow(r_rk[i-1],3)\n",
        "    ly1=tau*-miu*y_rk[i-1]/pow(r_rk[i-1],3)\n",
        "\n",
        "    kx2=tau*(vx_rk[i-1]+0.5*lx1)\n",
        "    ky2=tau*(vy_rk[i-1]+0.5*ly1)\n",
        "\n",
        "    lx2=tau*-miu*(x_rk[i-1]+0.5*kx1)/pow(r_rk[i-1],3)\n",
        "    ly2=tau*-miu*(y_rk[i-1]+0.5*ky1)/pow(r_rk[i-1],3)\n",
        "\n",
        "    kx3=tau*(vx_rk[i-1]+0.5*lx2)\n",
        "    ky3=tau*(vy_rk[i-1]+0.5*ly2)\n",
        "\n",
        "    lx3=tau*-miu*(x_rk[i-1]+0.5*kx2)/pow(r_rk[i-1],3)\n",
        "    ly3=tau*-miu*(y_rk[i-1]+0.5*ky2)/pow(r_rk[i-1],3)\n",
        "    \n",
        "    kx4=tau*(vx_rk[i-1]+lx3)\n",
        "    ky4=tau*(vy_rk[i-1]+ly3)\n",
        "\n",
        "    lx4=tau*-miu*(x_rk[i-1]+kx3)/pow(r_rk[i-1],3)\n",
        "    ly4=tau*-miu*(y_rk[i-1]+ky3)/pow(r_rk[i-1],3)\n",
        "\n",
        "    x_rk.append(x_rk[i-1]+(1/6)*(kx1+2*kx2+2*kx3+kx4))\n",
        "    y_rk.append(y_rk[i-1]+(1/6)*(ky1+2*ky2+2*ky3+ky4))\n",
        "    r_rk.append(pow(pow(x_rk[i],2)+pow(y_rk[i],2),1/2))\n",
        "\n",
        "    vx_rk.append(vx_rk[i-1]+(1/6)*(lx1+2*lx2+2*lx3+lx4))\n",
        "    vy_rk.append(vy_rk[i-1]+(1/6)*(ly1+2*ly2+2*ly3+ly4))\n",
        "    v_rk.append(pow(pow(vx_rk[i],2)+pow(vy_rk[i],2),1/2))\n",
        "\n",
        "\n",
        "    s_rk.append(0.5 * (x_rk[i-1]*y_rk[i]-x_rk[i]*y_rk[i-1]))\n",
        "\n",
        "\n",
        " #   E_rk.append(0.5*k*np.power(x_rk[i],2)+0.5*m*np.power(v_rk[i],2))"
      ],
      "metadata": {
        "id": "VAboFmkC5LCo"
      },
      "execution_count": null,
      "outputs": []
    },
    {
      "cell_type": "code",
      "source": [
        "plt.scatter(x_rk,y_rk,color='blue',s=8,label='Runge-Kutta-x')"
      ],
      "metadata": {
        "colab": {
          "base_uri": "https://localhost:8080/",
          "height": 283
        },
        "id": "W1Q0VnlxdNVz",
        "outputId": "ae053bd1-455b-4fb7-c060-3fa4464c7197"
      },
      "execution_count": null,
      "outputs": [
        {
          "output_type": "execute_result",
          "data": {
            "text/plain": [
              "<matplotlib.collections.PathCollection at 0x7f6dd1f14290>"
            ]
          },
          "metadata": {},
          "execution_count": 12
        },
        {
          "output_type": "display_data",
          "data": {
            "text/plain": [
              "<Figure size 432x288 with 1 Axes>"
            ],
            "image/png": "[encoded data removed]"
          },
          "metadata": {
            "needs_background": "light"
          }
        }
      ]
    },
    {
      "cell_type": "code",
      "source": [
        "#postion x plot\n",
        "plt.figure(figsize=(10,5))\n",
        "plt.scatter(t_rk,r_rk,color='blue',s=5,label='Runge-Kutta-r')\n",
        "plt.scatter(t_rk,v_rk,color='grey',s=8,label='Runge-Kutta-v')\n",
        "plt.scatter(t_rk,s_rk,color='red',s=8,label='Runge-Kutta-s')\n",
        "plt.legend()\n",
        "plt.xlabel('time t',size=16)\n",
        "plt.ylabel('r,v,s,',size=16)\n",
        "plt.title('Comparison of position r,s,v',size=16)\n",
        "plt.xlim(0,30)\n",
        "plt.ylim(-2,2)"
      ],
      "metadata": {
        "colab": {
          "base_uri": "https://localhost:8080/",
          "height": 375
        },
        "id": "SF_9wXcK06oB",
        "outputId": "4dbe9651-9d18-4fb5-d507-9d4ff88ebf45"
      },
      "execution_count": null,
      "outputs": [
        {
          "output_type": "execute_result",
          "data": {
            "text/plain": [
              "(-2.0, 2.0)"
            ]
          },
          "metadata": {},
          "execution_count": 13
        },
        {
          "output_type": "display_data",
          "data": {
            "text/plain": [
              "<Figure size 720x360 with 1 Axes>"
            ],
            "image/png": "[encoded data removed]"
          },
          "metadata": {
            "needs_background": "light"
          }
        }
      ]
    },
    {
      "cell_type": "code",
      "source": [],
      "metadata": {
        "id": "D1RXLc2bdHTt"
      },
      "execution_count": null,
      "outputs": []
    }
  ]
}